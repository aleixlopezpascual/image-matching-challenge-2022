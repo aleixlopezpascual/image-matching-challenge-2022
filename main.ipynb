{
 "cells": [
  {
   "cell_type": "markdown",
   "source": [
    "## Colab Setup"
   ],
   "metadata": {
    "collapsed": false
   }
  },
  {
   "cell_type": "code",
   "execution_count": null,
   "outputs": [],
   "source": [
    "COLAB = True\n",
    "KAGGLE = False\n",
    "DOWNLOAD_DATA = True\n",
    "SAVE_TO_GITHUB = False\n",
    "GIT_REPOSITORY = \"osic-pulmonary-fibrosis-progression\"\n",
    "FILE_NAME = \"main.ipynb\"\n",
    "\n",
    "if COLAB:\n",
    "    PARENT_DIRECTORY_PATH = \"/content\"\n",
    "    # In case you want to clone in your drive:\n",
    "    # PARENT_DIRECTORY_PATH = \"/content/gdrive/My Drive\"\n",
    "    PROJECT_PATH = PARENT_DIRECTORY_PATH + \"/\" + GIT_REPOSITORY\n",
    "    %cd \"{PARENT_DIRECTORY_PATH}\""
   ],
   "metadata": {
    "collapsed": false,
    "pycharm": {
     "name": "#%%\n"
    }
   }
  },
  {
   "cell_type": "markdown",
   "source": [
    "### Linking personal Google Drive storage with Google Colab"
   ],
   "metadata": {
    "collapsed": false
   }
  },
  {
   "cell_type": "markdown",
   "source": [
    "Mounting is the process by which the os makes files and directories of a\n",
    "storage service (google drive) available for the users via the computer's\n",
    "file system. Log in will be required."
   ],
   "metadata": {
    "collapsed": false
   }
  },
  {
   "cell_type": "code",
   "execution_count": null,
   "outputs": [],
   "source": [
    "if COLAB:\n",
    "    %cd /content\n",
    "    from google.colab import drive\n",
    "    drive.mount('/content/gdrive')"
   ],
   "metadata": {
    "collapsed": false,
    "pycharm": {
     "name": "#%%\n"
    }
   }
  },
  {
   "cell_type": "markdown",
   "source": [
    "### Clone GitHub repository to Colab Runtime system"
   ],
   "metadata": {
    "collapsed": false
   }
  },
  {
   "cell_type": "code",
   "execution_count": null,
   "outputs": [],
   "source": [
    "if COLAB:\n",
    "    import json\n",
    "\n",
    "    with open(\"/content/gdrive/My Drive/Git/git.json\", \"r\") as f:\n",
    "        parsed_json = json.load(f)\n",
    "\n",
    "    GIT_USER_NAME = parsed_json[\"GIT_USER_NAME\"]\n",
    "    GIT_TOKEN = parsed_json[\"GIT_TOKEN\"]\n",
    "    GIT_USER_EMAIL = parsed_json[\"GIT_USER_EMAIL\"]\n",
    "\n",
    "    GIT_PATH = (\n",
    "        f\"https://{GIT_TOKEN}@github.com/{GIT_USER_NAME}/{GIT_REPOSITORY}.git\"\n",
    "    )\n",
    "\n",
    "    %cd \"{PARENT_DIRECTORY_PATH}\"\n",
    "\n",
    "    !git clone \"{GIT_PATH}\"  # Clone the github repository\n",
    "\n",
    "    %cd \"{PROJECT_PATH}\""
   ],
   "metadata": {
    "collapsed": false,
    "pycharm": {
     "name": "#%%\n"
    }
   }
  },
  {
   "cell_type": "markdown",
   "source": [
    "### Kaggle API Setup"
   ],
   "metadata": {
    "collapsed": false
   }
  },
  {
   "cell_type": "markdown",
   "source": [
    "Run the following code to provide the config path to kaggle.json\n",
    "(api credentials)"
   ],
   "metadata": {
    "collapsed": false
   }
  },
  {
   "cell_type": "code",
   "execution_count": null,
   "outputs": [],
   "source": [
    "if COLAB:\n",
    "    import os\n",
    "\n",
    "    os.environ[\"KAGGLE_CONFIG_DIR\"] = \"/content/gdrive/My Drive/Kaggle\""
   ],
   "metadata": {
    "collapsed": false,
    "pycharm": {
     "name": "#%%\n"
    }
   }
  },
  {
   "cell_type": "markdown",
   "source": [
    "### Download the data using the API"
   ],
   "metadata": {
    "collapsed": false
   }
  },
  {
   "cell_type": "markdown",
   "source": [
    "Before start downloading the data, make sure u are in a directory outside\n",
    "your Google Drive; otherwise, u will put the data there and you will reach\n",
    "the limit storage easily."
   ],
   "metadata": {
    "collapsed": false
   }
  },
  {
   "cell_type": "code",
   "execution_count": null,
   "outputs": [],
   "source": [
    "if DOWNLOAD_DATA:\n",
    "    !mkdir input\n",
    "    %cd input\n",
    "\n",
    "    !pip install --upgrade kaggle\n",
    "    # Go to kaggle and copy the API Command to download the dataset\n",
    "    # !kaggle competitions download -c {GIT_REPOSITORY}\n",
    "    # Instead of downloading all data, we select specific files.\n",
    "    !kaggle competitions download {GIT_REPOSITORY} -f train.csv\n",
    "    !kaggle competitions download {GIT_REPOSITORY} -f test.csv\n",
    "    !kaggle competitions download {GIT_REPOSITORY} -f sample_submission.csv\n",
    "\n",
    "    # Unzipping the zip files and deleting the zip files\n",
    "    !unzip \\*.zip  && rm *.zip\n",
    "\n",
    "    # After downloading all data, go back to PROJECT_PATH\n",
    "    %cd ..\n",
    "\n",
    "if KAGGLE:\n",
    "    INPUT_ROOT = f\"../input/{GIT_REPOSITORY}\"\n",
    "else:\n",
    "    INPUT_ROOT = f\"../{GIT_REPOSITORY}/input\"\n",
    "\n",
    "# INPUT_ROOT will be used as follows\n",
    "# train_df = pd.read_csv(f\"{INPUT_ROOT}/train.csv\")"
   ],
   "metadata": {
    "collapsed": false,
    "pycharm": {
     "name": "#%%\n"
    }
   }
  },
  {
   "cell_type": "markdown",
   "source": [
    "### Save changes to GitHub"
   ],
   "metadata": {
    "collapsed": false
   }
  },
  {
   "cell_type": "code",
   "execution_count": null,
   "outputs": [],
   "source": [
    "if SAVE_TO_GITHUB:\n",
    "    !git add {FILE_NAME}\n",
    "    !git config --global user.email {GIT_USER_EMAIL}\n",
    "    !git config --global user.name {GIT_USER_NAME}\n",
    "    !git commit -am \"update {FILE_NAME}\"\n",
    "    !git push"
   ],
   "metadata": {
    "collapsed": false,
    "pycharm": {
     "name": "#%%\n"
    }
   }
  }
 ],
 "metadata": {
  "kernelspec": {
   "display_name": "Python 3",
   "language": "python",
   "name": "python3"
  },
  "language_info": {
   "codemirror_mode": {
    "name": "ipython",
    "version": 2
   },
   "file_extension": ".py",
   "mimetype": "text/x-python",
   "name": "python",
   "nbconvert_exporter": "python",
   "pygments_lexer": "ipython2",
   "version": "2.7.6"
  }
 },
 "nbformat": 4,
 "nbformat_minor": 0
}